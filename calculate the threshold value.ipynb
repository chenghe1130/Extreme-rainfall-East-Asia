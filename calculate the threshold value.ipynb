{
 "cells": [
  {
   "cell_type": "markdown",
   "source": [
    "**Python code for IDF model to calculate the threshold value of extreme rainfall events with different return periods**\n",
    "\n",
    "###### This section are based on the tutorial by Jesús Casado Rodríguez. See: https://github.com/casadoj/Clases/tree/master/G1448-Hydrology/Precipitation\n",
    "\n",
    "Cheng He, Jan. 2024\n",
    "Fudan University & Helmholtz Zentrum Muenchen"
   ],
   "metadata": {
    "collapsed": false
   }
  },
  {
   "cell_type": "code",
   "execution_count": null,
   "outputs": [],
   "source": [
    "#import packages\n",
    "import pandas as pd\n",
    "from scipy.stats import genextreme"
   ],
   "metadata": {
    "collapsed": false
   }
  },
  {
   "cell_type": "code",
   "execution_count": null,
   "outputs": [],
   "source": [
    "#1.Read the file containing the codes corresponding to the 32 cities.\n",
    "df = pd.read_csv('data.csv')"
   ],
   "metadata": {
    "collapsed": false
   }
  },
  {
   "cell_type": "code",
   "execution_count": null,
   "outputs": [],
   "source": [
    "#2.Build list to store estimated threshold value for extreme rainfall events with a 2, 5, and 10-year return period\n",
    "r2 = []\n",
    "r5 = []\n",
    "r10 = []"
   ],
   "metadata": {
    "collapsed": false
   }
  },
  {
   "cell_type": "code",
   "execution_count": null,
   "outputs": [],
   "source": [
    "#3. calculate the threshold value and store it for each city\n",
    "for i in range(0, df.shape[0]):\n",
    "    #read the unique id for the city\n",
    "    cityid = df['selectasia'][i]\n",
    "\n",
    "    #read the time-series rainfall data for the city using the unique id\n",
    "    df_rain = pd.read_csv('..../' + str(cityid) + '.csv')\n",
    "\n",
    "    # pick up the maximum value of daily rainfall for each year\n",
    "    df_rain['time'] = pd.to_datetime(df_rain['time'])\n",
    "    df_rain = df_rain.set_index('time')\n",
    "    df_rain = df_rain.resample('AS').max().to_period('A')\n",
    "    df_rain = df_rain.dropna(axis=0, how='all')\n",
    "    annualMax = df_rain[['tp']]\n",
    "\n",
    "    #fit the function\n",
    "    parGEV_2h = genextreme.fit(annualMax['tp'], f0=0)\n",
    "\n",
    "    #calculate the thresholds\n",
    "    Tr = 2\n",
    "    Pne = 1 - 1 / Tr\n",
    "    a0 = genextreme(*parGEV_2h).ppf(Pne)\n",
    "\n",
    "    Tr = 5\n",
    "    Pne = 1 - 1 / Tr\n",
    "    a1 = genextreme(*parGEV_2h).ppf(Pne)\n",
    "\n",
    "    Tr = 10\n",
    "    Pne = 1 - 1 / Tr\n",
    "    a2 = genextreme(*parGEV_2h).ppf(Pne)\n",
    "\n",
    "    #storage the thresholds\n",
    "    r2.append(a0)\n",
    "    r5.append(a1)\n",
    "    r10.append(a2)"
   ],
   "metadata": {
    "collapsed": false
   }
  },
  {
   "cell_type": "code",
   "execution_count": null,
   "outputs": [],
   "source": [
    "#4. storage the thresholds to the original file then output\n",
    "df['r2']=r3\n",
    "df['r5']=r5\n",
    "df['r10']=r10\n",
    "\n",
    "df.to_csv('city_reuslts.csv', index=False)"
   ],
   "metadata": {
    "collapsed": false
   }
  }
 ],
 "metadata": {
  "kernelspec": {
   "display_name": "Python 3",
   "language": "python",
   "name": "python3"
  },
  "language_info": {
   "codemirror_mode": {
    "name": "ipython",
    "version": 2
   },
   "file_extension": ".py",
   "mimetype": "text/x-python",
   "name": "python",
   "nbconvert_exporter": "python",
   "pygments_lexer": "ipython2",
   "version": "2.7.6"
  }
 },
 "nbformat": 4,
 "nbformat_minor": 0
}
